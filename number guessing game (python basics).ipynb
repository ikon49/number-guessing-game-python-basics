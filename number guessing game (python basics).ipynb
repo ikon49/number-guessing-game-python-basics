{
 "cells": [
  {
   "cell_type": "code",
   "execution_count": null,
   "id": "0929976b-52e3-4391-9d0e-da67ccb08918",
   "metadata": {},
   "outputs": [],
   "source": [
    "import random\n",
    "import time\n",
    "\n",
    "def number_guessing_game():\n",
    "    # Generate a random number between 1 and 100\n",
    "    secret_number = random.randint(1, 100)\n",
    "\n",
    "    # Welcome message\n",
    "    print(\"Welcome to the number Guessing Game!\")\n",
    "    time.sleep(3)\n",
    "    print(\"I'm thinking of a number btw 1 and 100\")\n",
    "    time.sleep(3)\n",
    "    print(\"can you guess,what it is?\")\n",
    "    time.sleep(3)\n",
    "    \n",
    "    # Initialize the number of guesses\n",
    "    num_guesses = 0\n",
    "    \n",
    "    # Start the game loop\n",
    "    while True:\n",
    "        # Prompt the player to enter their guess\n",
    "        guess = int(input(\"Enter your guess (between 1 and 100): \"))\n",
    "        num_guesses += 1\n",
    "        \n",
    "        # Check if the guess is too high, too low, or correct\n",
    "        if guess < secret_number:\n",
    "            print(\"your guess is too low! Try again.\")\n",
    "        elif guess > secret_number:\n",
    "            print(\"your guess is too high! Try again.\")\n",
    "        else:\n",
    "            print(f\"Congratulations! You've guessed the number {secret_number} correctly in {num_guesses} guesses.\")\n",
    "            break\n",
    "\n",
    "# Start the game\n",
    "number_guessing_game()\n"
   ]
  }
 ],
 "metadata": {
  "kernelspec": {
   "display_name": "Python 3 (ipykernel)",
   "language": "python",
   "name": "python3"
  },
  "language_info": {
   "codemirror_mode": {
    "name": "ipython",
    "version": 3
   },
   "file_extension": ".py",
   "mimetype": "text/x-python",
   "name": "python",
   "nbconvert_exporter": "python",
   "pygments_lexer": "ipython3",
   "version": "3.11.7"
  }
 },
 "nbformat": 4,
 "nbformat_minor": 5
}
